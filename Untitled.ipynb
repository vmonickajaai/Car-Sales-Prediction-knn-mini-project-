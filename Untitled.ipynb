{
 "cells": [
  {
   "cell_type": "code",
   "execution_count": null,
   "id": "539fdb3d-f419-421c-bf78-93794fea347b",
   "metadata": {},
   "outputs": [],
   "source": [
    "#PROBLEM STATEMENT\n",
    "'''\n",
    "You are working as a car salesman and you would like to develop a model to predict the total dollar amount that customers are willing to pay given the following attributes:\n",
    "\n",
    "Customer Name\n",
    "Customer e-mail\n",
    "Country\n",
    "Gender\n",
    "Age\n",
    "Annual Salary\n",
    "Credit Card Debt\n",
    "Net Worth\n",
    "The model should predict:\n",
    "\n",
    "Car Purchase Amount\n",
    "'''"
   ]
  },
  {
   "cell_type": "code",
   "execution_count": null,
   "id": "047106e4-e164-46c4-bdd0-d8663d82f6f3",
   "metadata": {},
   "outputs": [],
   "source": [
    "#LIBRARIES IMPORT"
   ]
  },
  {
   "cell_type": "code",
   "execution_count": 1,
   "id": "d265e7ec-2952-42b8-a4e1-b6c57ee572ee",
   "metadata": {},
   "outputs": [],
   "source": [
    "import pandas as pd\n",
    "import numpy as np\n",
    "import matplotlib.pyplot as plt\n",
    "import seaborn as sns"
   ]
  },
  {
   "cell_type": "code",
   "execution_count": null,
   "id": "860d4e1d-927d-4dac-9daa-6bbf751984d5",
   "metadata": {},
   "outputs": [],
   "source": [
    "car_df = pd.read_csv('Car_Purchasing_Data.csv', encoding='ISO-8859-1')"
   ]
  },
  {
   "cell_type": "code",
   "execution_count": 2,
   "id": "a47daf35-ca15-442f-9daa-ffea8a74bc9d",
   "metadata": {},
   "outputs": [
    {
     "ename": "NameError",
     "evalue": "name 'car_df' is not defined",
     "output_type": "error",
     "traceback": [
      "\u001b[1;31m---------------------------------------------------------------------------\u001b[0m",
      "\u001b[1;31mNameError\u001b[0m                                 Traceback (most recent call last)",
      "Cell \u001b[1;32mIn[2], line 1\u001b[0m\n\u001b[1;32m----> 1\u001b[0m car_df\n",
      "\u001b[1;31mNameError\u001b[0m: name 'car_df' is not defined"
     ]
    }
   ],
   "source": [
    "car_df"
   ]
  },
  {
   "cell_type": "code",
   "execution_count": null,
   "id": "44fb1e9f-49fb-4849-8f40-4f9b05d93c9c",
   "metadata": {},
   "outputs": [],
   "source": []
  }
 ],
 "metadata": {
  "kernelspec": {
   "display_name": "Python 3 (ipykernel)",
   "language": "python",
   "name": "python3"
  },
  "language_info": {
   "codemirror_mode": {
    "name": "ipython",
    "version": 3
   },
   "file_extension": ".py",
   "mimetype": "text/x-python",
   "name": "python",
   "nbconvert_exporter": "python",
   "pygments_lexer": "ipython3",
   "version": "3.12.7"
  }
 },
 "nbformat": 4,
 "nbformat_minor": 5
}
